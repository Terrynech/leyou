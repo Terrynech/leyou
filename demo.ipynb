{
 "cells": [
  {
   "cell_type": "markdown",
   "metadata": {},
   "source": [
    "# Demo Scripts for the wfdb-python package\n",
    "\n",
    "Run this notebook from the base directory of the git repository to access the included demo files"
   ]
  },
  {
   "cell_type": "markdown",
   "metadata": {},
   "source": [
    "## Documentation Site\n",
    "\n",
    "http://wfdb.readthedocs.io/"
   ]
  },
  {
   "cell_type": "code",
   "execution_count": 1,
   "metadata": {},
   "outputs": [],
   "source": [
    "from IPython.display import display\n",
    "import matplotlib.pyplot as plt\n",
    "%matplotlib inline\n",
    "import numpy as np\n",
    "import os\n",
    "import shutil\n",
    "\n",
    "import wfdb"
   ]
  },
  {
   "cell_type": "markdown",
   "metadata": {},
   "source": [
    "## Reading Records and Annotations"
   ]
  },
  {
   "cell_type": "code",
   "execution_count": 2,
   "metadata": {},
   "outputs": [
    {
     "data": {
      "image/png": "[encoded data removed]",
      "text/plain": [
       "<Figure size 432x288 with 3 Axes>"
      ]
     },
     "metadata": {},
     "output_type": "display_data"
    },
    {
     "data": {
      "text/plain": [
       "{'record_name': 'a103l',\n",
       " 'n_sig': 3,\n",
       " 'fs': 250,\n",
       " 'counter_freq': None,\n",
       " 'base_counter': None,\n",
       " 'sig_len': 82500,\n",
       " 'base_time': None,\n",
       " 'base_date': None,\n",
       " 'comments': ['Asystole', 'False alarm'],\n",
       " 'sig_name': ['II', 'V', 'PLETH'],\n",
       " 'p_signal': array([[-0.02359597,  0.86758555,  0.48220271],\n",
       "        [-0.03698082,  0.98298479,  0.5443735 ],\n",
       "        [-0.06292259,  0.85979087,  0.47821229],\n",
       "        ...,\n",
       "        [-0.04084449,  0.7493346 ,  0.5150838 ],\n",
       "        [-0.04719194,  0.7581749 ,  0.50957702],\n",
       "        [-0.04677798,  0.7615019 ,  0.5028731 ]]),\n",
       " 'd_signal': None,\n",
       " 'e_p_signal': None,\n",
       " 'e_d_signal': None,\n",
       " 'file_name': ['a103l.mat', 'a103l.mat', 'a103l.mat'],\n",
       " 'fmt': ['16', '16', '16'],\n",
       " 'samps_per_frame': [1, 1, 1],\n",
       " 'skew': [None, None, None],\n",
       " 'byte_offset': [24, 24, 24],\n",
       " 'adc_gain': [7247.0, 10520.0, 12530.0],\n",
       " 'baseline': [0, 0, 0],\n",
       " 'units': ['mV', 'mV', 'NU'],\n",
       " 'adc_res': [16, 16, 16],\n",
       " 'adc_zero': [0, 0, 0],\n",
       " 'init_value': [-171, 9127, 6042],\n",
       " 'checksum': [-27403, -301, -17391],\n",
       " 'block_size': [0, 0, 0]}"
      ]
     },
     "metadata": {},
     "output_type": "display_data"
    }
   ],
   "source": [
    "# Demo 1 - Read a wfdb record using the 'rdrecord' function into a wfdb.Record object.\n",
    "# Plot the signals, and show the data.\n",
    "record = wfdb.rdrecord('sample-data/a103l') \n",
    "wfdb.plot_wfdb(record=record, title='Record a103l from Physionet Challenge 2015') \n",
    "display(record.__dict__)\n",
    "\n",
    "\n",
    "# Can also read the same files hosted on Physiobank https://physionet.org/physiobank/database/\n",
    "# in the challenge/2015/training/ database subdirectory. Full url = https://physionet.org/physiobank/database/challenge/2015/training/\n",
    "record2 = wfdb.rdrecord('a103l', pb_dir='challenge/2015/training/')"
   ]
  },
  {
   "cell_type": "code",
   "execution_count": 3,
   "metadata": {},
   "outputs": [
    {
     "data": {
      "text/plain": [
       "array([[ 0.0335, -0.167 , -0.237 ,  0.1165],\n",
       "       [ 0.0355, -0.1615, -0.2395,  0.119 ],\n",
       "       [ 0.0385, -0.168 , -0.2465,  0.116 ],\n",
       "       ...,\n",
       "       [-0.0445,  0.008 ,  0.033 ,  0.045 ],\n",
       "       [-0.044 ,  0.0175,  0.042 ,  0.052 ],\n",
       "       [-0.044 ,  0.0245,  0.0365,  0.05  ]])"
      ]
     },
     "metadata": {},
     "output_type": "display_data"
    },
    {
     "data": {
      "text/plain": [
       "{'fs': 1000,\n",
       " 'sig_len': 14900,\n",
       " 'n_sig': 4,\n",
       " 'base_date': None,\n",
       " 'base_time': None,\n",
       " 'units': ['mV', 'mV', 'mV', 'mV'],\n",
       " 'sig_name': ['vz', 'i', 'avf', 'v5'],\n",
       " 'comments': ['age: 81',\n",
       "  'sex: female',\n",
       "  'ECG date: 01/10/1990',\n",
       "  'Diagnose:',\n",
       "  'Reason for admission: Myocardial infarction',\n",
       "  'Acute infarction (localization): infero-latera',\n",
       "  'Former infarction (localization): no',\n",
       "  'Additional diagnoses: Diabetes mellitus',\n",
       "  'Smoker: no',\n",
       "  'Number of coronary vessels involved: 1',\n",
       "  'Infarction date (acute): 29-Sep-90',\n",
       "  'Previous infarction (1) date: n/a',\n",
       "  'Previous infarction (2) date: n/a',\n",
       "  'Hemodynamics:',\n",
       "  'Catheterization date: 16-Oct-90',\n",
       "  'Ventriculography: Akinesia inferior wall',\n",
       "  'Chest X-ray: Heart size upper limit of norm',\n",
       "  'Peripheral blood Pressure (syst/diast):  140/80 mmHg',\n",
       "  'Pulmonary artery pressure (at rest) (syst/diast): n/a',\n",
       "  'Pulmonary artery pressure (at rest) (mean): n/a',\n",
       "  'Pulmonary capillary wedge pressure (at rest): n/a',\n",
       "  'Cardiac output (at rest): n/a',\n",
       "  'Cardiac index (at rest): n/a',\n",
       "  'Stroke volume index (at rest): n/a',\n",
       "  'Pulmonary artery pressure (laod) (syst/diast): n/a',\n",
       "  'Pulmonary artery pressure (laod) (mean): n/a',\n",
       "  'Pulmonary capillary wedge pressure (load): n/a',\n",
       "  'Cardiac output (load): n/a',\n",
       "  'Cardiac index (load): n/a',\n",
       "  'Stroke volume index (load): n/a',\n",
       "  'Aorta (at rest) (syst/diast): 160/64 cmH2O',\n",
       "  'Aorta (at rest) mean: 106 cmH2O',\n",
       "  'Left ventricular enddiastolic pressure: 11 cmH2O',\n",
       "  'Left coronary artery stenoses (RIVA): RIVA 70% proximal to ramus diagonalis_2',\n",
       "  'Left coronary artery stenoses (RCX): No stenoses',\n",
       "  'Right coronary artery stenoses (RCA): No stenoses',\n",
       "  'Echocardiography: n/a',\n",
       "  'Therapy:',\n",
       "  'Infarction date: 29-Sep-90',\n",
       "  'Catheterization date: 16-Oct-90',\n",
       "  'Admission date: 29-Sep-90',\n",
       "  'Medication pre admission: Isosorbit-Dinitrate Digoxin Glibenclamide',\n",
       "  'Start lysis therapy (hh.mm): 19:45',\n",
       "  'Lytic agent: Gamma-TPA',\n",
       "  'Dosage (lytic agent): 30 mg',\n",
       "  'Additional medication: Heparin Isosorbit-Mononitrate ASA Diazepam',\n",
       "  'In hospital medication: ASA Isosorbit-Mononitrate Ca-antagonist Amiloride+Chlorothiazide Glibenclamide Insulin',\n",
       "  'Medication after discharge: ASA Isosorbit-Mononitrate Amiloride+Chlorothiazide Glibenclamide']}"
      ]
     },
     "metadata": {},
     "output_type": "display_data"
    }
   ],
   "source": [
    "# Demo 2 - Read certain channels and sections of the WFDB record using the simplified 'rdsamp' function\n",
    "# which returns a numpy array and a dictionary. Show the data.\n",
    "signals, fields = wfdb.rdsamp('sample-data/s0010_re', channels=[14, 0, 5, 10], sampfrom=100, sampto=15000)\n",
    "display(signals)\n",
    "display(fields)\n",
    "\n",
    "# Can also read the same files hosted on Physiobank \n",
    "signals2, fields2 = wfdb.rdsamp('s0010_re', channels=[14, 0, 5, 10], sampfrom=100, sampto=15000, pb_dir='ptbdb/patient001/')"
   ]
  },
  {
   "cell_type": "code",
   "execution_count": 4,
   "metadata": {},
   "outputs": [
    {
     "data": {
      "text/plain": [
       "{'record_name': 'drive02',\n",
       " 'n_sig': 5,\n",
       " 'fs': 15.5,\n",
       " 'counter_freq': None,\n",
       " 'base_counter': None,\n",
       " 'sig_len': 78056,\n",
       " 'base_time': None,\n",
       " 'base_date': None,\n",
       " 'comments': [],\n",
       " 'sig_name': ['ECG', 'foot GSR', 'HR', 'marker', 'RESP'],\n",
       " 'p_signal': None,\n",
       " 'd_signal': None,\n",
       " 'e_p_signal': None,\n",
       " 'e_d_signal': None,\n",
       " 'file_name': ['drive02.dat',\n",
       "  'drive02.dat',\n",
       "  'drive02.dat',\n",
       "  'drive02.dat',\n",
       "  'drive02.dat'],\n",
       " 'fmt': ['16', '16', '16', '16', '16'],\n",
       " 'samps_per_frame': [32, 2, 1, 1, 2],\n",
       " 'skew': [None, None, None, None, None],\n",
       " 'byte_offset': [None, None, None, None, None],\n",
       " 'adc_gain': [1000.0, 1000.0, 1.0001, 100.0, 500.0],\n",
       " 'baseline': [0, 0, 0, 0, 0],\n",
       " 'units': ['mV', 'mV', 'bpm', 'mV', 'mV'],\n",
       " 'adc_res': [16, 16, 16, 16, 16],\n",
       " 'adc_zero': [0, 0, 0, 0, 0],\n",
       " 'init_value': [-1236, 1802, 75, 0, 5804],\n",
       " 'checksum': [14736, 13501, -19070, -9226, -14191],\n",
       " 'block_size': [0, 0, 0, 0, 0]}"
      ]
     },
     "metadata": {},
     "output_type": "display_data"
    }
   ],
   "source": [
    "# Demo 3 - Read a WFDB header file only (without the signals)\n",
    "record = wfdb.rdheader('sample-data/drive02')\n",
    "display(record.__dict__)\n",
    "\n",
    "# Can also read the same file hosted on Physiobank\n",
    "record2 = wfdb.rdheader('drive02', pb_dir='drivedb')"
   ]
  },
  {
   "cell_type": "code",
   "execution_count": 5,
   "metadata": {},
   "outputs": [
    {
     "data": {
      "image/png": "[encoded data removed]",
      "text/plain": [
       "<Figure size 432x288 with 1 Axes>"
      ]
     },
     "metadata": {},
     "output_type": "display_data"
    }
   ],
   "source": [
    "# Demo 4 - Read part of a WFDB annotation file into a wfdb.Annotation object, and plot the samples\n",
    "annotation = wfdb.rdann('sample-data/100', 'atr', sampfrom=100000, sampto=110000)\n",
    "annotation.fs = 360\n",
    "wfdb.plot_wfdb(annotation=annotation, time_units='minutes')\n",
    "\n",
    "# Can also read the same file hosted on PhysioBank \n",
    "annotation2 = wfdb.rdann('100', 'atr', sampfrom=100000, sampto=110000, pb_dir='mitdb')"
   ]
  },
  {
   "cell_type": "code",
   "execution_count": 6,
   "metadata": {},
   "outputs": [
    {
     "data": {
      "image/png": "[encoded data removed]",
      "text/plain": [
       "<Figure size 432x288 with 2 Axes>"
      ]
     },
     "metadata": {},
     "output_type": "display_data"
    }
   ],
   "source": [
    "# Demo 5 - Read a WFDB record and annotation. Plot all channels, and the annotation on top of channel 0.\n",
    "record = wfdb.rdrecord('sample-data/100', sampto = 15000)\n",
    "annotation = wfdb.rdann('sample-data/100', 'atr', sampto = 15000)\n",
    "\n",
    "wfdb.plot_wfdb(record=record, annotation=annotation,\n",
    "               title='Record 100 from MIT-BIH Arrhythmia Database',\n",
    "               time_units='seconds')"
   ]
  },
  {
   "cell_type": "markdown",
   "metadata": {},
   "source": [
    "### Multisegment waveform examples\n",
    "\n",
    "The following sections load and plots waveforms from the MIMIC matched waveform database. These waveforms have been matched to clinical data in the MIMIC Clinical database. The input records are multi-segment (made up of multiple individual WFDB records) and relatively long.\n",
    "\n",
    "Note that these kinds of records contain segments in which certain channels are missing. <strong>matplotlib</strong> automatically zooms in on sections without Nans in individual channels but the entire durations of the signals input into <strong>plotrec</strong> are actually plotted. \n",
    "\n"
   ]
  },
  {
   "cell_type": "code",
   "execution_count": 7,
   "metadata": {},
   "outputs": [
    {
     "data": {
      "image/png": "[encoded data removed]",
      "text/plain": [
       "<Figure size 432x288 with 1 Axes>"
      ]
     },
     "metadata": {},
     "output_type": "display_data"
    },
    {
     "data": {
      "text/plain": [
       "array([[        nan],\n",
       "       [        nan],\n",
       "       [        nan],\n",
       "       ...,\n",
       "       [-0.02469136],\n",
       "       [ 0.04938272],\n",
       "       [ 0.02469136]])"
      ]
     },
     "execution_count": 7,
     "metadata": {},
     "output_type": "execute_result"
    }
   ],
   "source": [
    "# Demo 6 - Read the multi-segment record and plot waveforms from the MIMIC matched waveform database. \n",
    "record = wfdb.rdrecord('sample-data/multi-segment/s25047/s25047-2704-05-04-10-44', channels=[0],ignore_skew=True)\n",
    "wfdb.plot_wfdb(record=record, title='Record s25047-2704-05-04-10-44') \n",
    "a = record.__dict__[ 'p_signal']\n",
    "a\n",
    "# Can also read the same files hosted on PhysioBank (takes long to stream the many large files)\n",
    "#record2 = wfdb.rdsamp('s25047-2704-05-04-10-44', pbdir = 'mimic2wdb/matched/s25047')"
   ]
  },
  {
   "cell_type": "code",
   "execution_count": 14,
   "metadata": {},
   "outputs": [
    {
     "ename": "TypeError",
     "evalue": "sequence item 1: expected str instance, NoneType found",
     "output_type": "error",
     "traceback": [
      "\u001b[1;31m---------------------------------------------------------------------------\u001b[0m",
      "\u001b[1;31mTypeError\u001b[0m                                 Traceback (most recent call last)",
      "\u001b[1;32m<ipython-input-14-77fbe409a515>\u001b[0m in \u001b[0;36m<module>\u001b[1;34m()\u001b[0m\n\u001b[0;32m      3\u001b[0m record = wfdb.rdrecord('sample-data/multi-segment/s00001/s00001-2896-10-10-00-31',\n\u001b[0;32m      4\u001b[0m                        sampfrom=3000000, sampto=4000000, channels=[0],ignore_skew=True)\n\u001b[1;32m----> 5\u001b[1;33m \u001b[0mwfdb\u001b[0m\u001b[1;33m.\u001b[0m\u001b[0mplot_wfdb\u001b[0m\u001b[1;33m(\u001b[0m\u001b[0mrecord\u001b[0m\u001b[1;33m=\u001b[0m\u001b[0mrecord\u001b[0m\u001b[1;33m,\u001b[0m \u001b[0mtitle\u001b[0m\u001b[1;33m=\u001b[0m\u001b[1;34m'Record s00001-2896-10-10-00-31'\u001b[0m\u001b[1;33m)\u001b[0m\u001b[1;33m\u001b[0m\u001b[0m\n\u001b[0m\u001b[0;32m      6\u001b[0m \u001b[0mdisplay\u001b[0m\u001b[1;33m(\u001b[0m\u001b[0mrecord\u001b[0m\u001b[1;33m.\u001b[0m\u001b[0m__dict__\u001b[0m\u001b[1;33m)\u001b[0m\u001b[1;33m\u001b[0m\u001b[0m\n\u001b[0;32m      7\u001b[0m \u001b[1;33m\u001b[0m\u001b[0m\n",
      "\u001b[1;32m~\\Desktop\\wfdb-python-master\\wfdb\\plot\\plot.py\u001b[0m in \u001b[0;36mplot_wfdb\u001b[1;34m(record, annotation, plot_sym, time_units, title, sig_style, ann_style, ecg_grids, figsize, return_fig)\u001b[0m\n\u001b[0;32m    405\u001b[0m         \u001b[0mylabel\u001b[0m\u001b[1;33m,\u001b[0m \u001b[0mrecord_name\u001b[0m\u001b[1;33m)\u001b[0m \u001b[1;33m=\u001b[0m \u001b[0mget_wfdb_plot_items\u001b[0m\u001b[1;33m(\u001b[0m\u001b[0mrecord\u001b[0m\u001b[1;33m=\u001b[0m\u001b[0mrecord\u001b[0m\u001b[1;33m,\u001b[0m\u001b[1;33m\u001b[0m\u001b[0m\n\u001b[0;32m    406\u001b[0m                                                    \u001b[0mannotation\u001b[0m\u001b[1;33m=\u001b[0m\u001b[0mannotation\u001b[0m\u001b[1;33m,\u001b[0m\u001b[1;33m\u001b[0m\u001b[0m\n\u001b[1;32m--> 407\u001b[1;33m                                                    plot_sym=plot_sym)\n\u001b[0m\u001b[0;32m    408\u001b[0m \u001b[1;33m\u001b[0m\u001b[0m\n\u001b[0;32m    409\u001b[0m     return plot_items(signal=signal, ann_samp=ann_samp, ann_sym=ann_sym, fs=fs,\n",
      "\u001b[1;32m~\\Desktop\\wfdb-python-master\\wfdb\\plot\\plot.py\u001b[0m in \u001b[0;36mget_wfdb_plot_items\u001b[1;34m(record, annotation, plot_sym)\u001b[0m\n\u001b[0;32m    432\u001b[0m         \u001b[0msig_units\u001b[0m \u001b[1;33m=\u001b[0m \u001b[0mrecord\u001b[0m\u001b[1;33m.\u001b[0m\u001b[0munits\u001b[0m\u001b[1;33m\u001b[0m\u001b[0m\n\u001b[0;32m    433\u001b[0m         \u001b[0mrecord_name\u001b[0m \u001b[1;33m=\u001b[0m \u001b[1;34m'Record: %s'\u001b[0m \u001b[1;33m%\u001b[0m \u001b[0mrecord\u001b[0m\u001b[1;33m.\u001b[0m\u001b[0mrecord_name\u001b[0m\u001b[1;33m\u001b[0m\u001b[0m\n\u001b[1;32m--> 434\u001b[1;33m         \u001b[0mylabel\u001b[0m \u001b[1;33m=\u001b[0m \u001b[1;33m[\u001b[0m\u001b[1;34m'/'\u001b[0m\u001b[1;33m.\u001b[0m\u001b[0mjoin\u001b[0m\u001b[1;33m(\u001b[0m\u001b[0mpair\u001b[0m\u001b[1;33m)\u001b[0m \u001b[1;32mfor\u001b[0m \u001b[0mpair\u001b[0m \u001b[1;32min\u001b[0m \u001b[0mzip\u001b[0m\u001b[1;33m(\u001b[0m\u001b[0msig_name\u001b[0m\u001b[1;33m,\u001b[0m \u001b[0msig_units\u001b[0m\u001b[1;33m)\u001b[0m\u001b[1;33m]\u001b[0m\u001b[1;33m\u001b[0m\u001b[0m\n\u001b[0m\u001b[0;32m    435\u001b[0m     \u001b[1;32melse\u001b[0m\u001b[1;33m:\u001b[0m\u001b[1;33m\u001b[0m\u001b[0m\n\u001b[0;32m    436\u001b[0m         \u001b[0msignal\u001b[0m \u001b[1;33m=\u001b[0m \u001b[0mfs\u001b[0m \u001b[1;33m=\u001b[0m \u001b[0mylabel\u001b[0m \u001b[1;33m=\u001b[0m \u001b[0mrecord_name\u001b[0m \u001b[1;33m=\u001b[0m \u001b[1;32mNone\u001b[0m\u001b[1;33m\u001b[0m\u001b[0m\n",
      "\u001b[1;32m~\\Desktop\\wfdb-python-master\\wfdb\\plot\\plot.py\u001b[0m in \u001b[0;36m<listcomp>\u001b[1;34m(.0)\u001b[0m\n\u001b[0;32m    432\u001b[0m         \u001b[0msig_units\u001b[0m \u001b[1;33m=\u001b[0m \u001b[0mrecord\u001b[0m\u001b[1;33m.\u001b[0m\u001b[0munits\u001b[0m\u001b[1;33m\u001b[0m\u001b[0m\n\u001b[0;32m    433\u001b[0m         \u001b[0mrecord_name\u001b[0m \u001b[1;33m=\u001b[0m \u001b[1;34m'Record: %s'\u001b[0m \u001b[1;33m%\u001b[0m \u001b[0mrecord\u001b[0m\u001b[1;33m.\u001b[0m\u001b[0mrecord_name\u001b[0m\u001b[1;33m\u001b[0m\u001b[0m\n\u001b[1;32m--> 434\u001b[1;33m         \u001b[0mylabel\u001b[0m \u001b[1;33m=\u001b[0m \u001b[1;33m[\u001b[0m\u001b[1;34m'/'\u001b[0m\u001b[1;33m.\u001b[0m\u001b[0mjoin\u001b[0m\u001b[1;33m(\u001b[0m\u001b[0mpair\u001b[0m\u001b[1;33m)\u001b[0m \u001b[1;32mfor\u001b[0m \u001b[0mpair\u001b[0m \u001b[1;32min\u001b[0m \u001b[0mzip\u001b[0m\u001b[1;33m(\u001b[0m\u001b[0msig_name\u001b[0m\u001b[1;33m,\u001b[0m \u001b[0msig_units\u001b[0m\u001b[1;33m)\u001b[0m\u001b[1;33m]\u001b[0m\u001b[1;33m\u001b[0m\u001b[0m\n\u001b[0m\u001b[0;32m    435\u001b[0m     \u001b[1;32melse\u001b[0m\u001b[1;33m:\u001b[0m\u001b[1;33m\u001b[0m\u001b[0m\n\u001b[0;32m    436\u001b[0m         \u001b[0msignal\u001b[0m \u001b[1;33m=\u001b[0m \u001b[0mfs\u001b[0m \u001b[1;33m=\u001b[0m \u001b[0mylabel\u001b[0m \u001b[1;33m=\u001b[0m \u001b[0mrecord_name\u001b[0m \u001b[1;33m=\u001b[0m \u001b[1;32mNone\u001b[0m\u001b[1;33m\u001b[0m\u001b[0m\n",
      "\u001b[1;31mTypeError\u001b[0m: sequence item 1: expected str instance, NoneType found"
     ]
    }
   ],
   "source": [
    "# Demo 7 - Read the multi-segment record and plot waveforms from the MIMIC matched waveform database.\n",
    "# Notice that some channels have no valid values to plot\n",
    "record = wfdb.rdrecord('sample-data/multi-segment/s00001/s00001-2896-10-10-00-31',\n",
    "                       sampfrom=3000000, sampto=4000000)\n",
    "wfdb.plot_wfdb(record=record, title='Record s00001-2896-10-10-00-31') \n",
    "display(record.__dict__)\n",
    "\n",
    "# Can also read the same files hosted on PhysioBank\n",
    "record2 = wfdb.rdrecord('s00001-2896-10-10-00-31', sampfrom=3000000, sampto=4000000,\n",
    "                        pb_dir = 'mimic2wdb/matched/s00001')"
   ]
  },
  {
   "cell_type": "markdown",
   "metadata": {},
   "source": [
    "### Multiple sample/frame examples\n",
    "\n",
    "Although there can only be one base sampling frequency per record, a single wfdb record can store multiple channels with different sampling frequencies, as long as their sampling frequencies can all be expressed by an integer multiple of a base value. This is done by using the `samps_per_frame` attribute in each channel, which indicates the number of samples of each channel present in each frame.\n",
    "\n",
    "ie: To capture three signals with sampling frequencies of 120, 240, and 360 Hz, in a single record, they can be combined into a record with `fs=120` and `samps_per_frame = [1, 2, 3]`.\n",
    "\n",
    "#### Reading Options\n",
    "\n",
    "This package allows signals in records with multiple samples/frame to be read in two ways:\n",
    "1. smoothed - An uniform mxn numpy is returned as the d_signal or p_signal field. Channels with multiple samples/frame have their values averaged within each frame. This is like the behaviour of the `rdsamp` function of the original WFDB c package. Note that `wfdb.plot_record` only works if the record object has the `p_signals` field.\n",
    "2. expanded - A list of 1d numpy arrays is returned as the e_d_signal or e_p_signal field. All samples for each channel are returned in its respective numpy array. The arrays may have different lengths depending on their `samps_per_frame` values.\n",
    "\n",
    "Set the `smooth_frames` *(default=True)* option in `rdrecord` to return the desired signal type."
   ]
  },
  {
   "cell_type": "code",
   "execution_count": null,
   "metadata": {},
   "outputs": [],
   "source": [
    "# Demo 8 - Read a wfdb record in which one channel has multiple samples/frame. Return a smoothed uniform array.\n",
    "record = wfdb.rdrecord('sample-data/test01_00s_frame')\n",
    "wfdb.plot_wfdb(record)"
   ]
  },
  {
   "cell_type": "code",
   "execution_count": null,
   "metadata": {},
   "outputs": [],
   "source": [
    "from IPython.display import display\n",
    "import matplotlib.pyplot as plt\n",
    "%matplotlib inline\n",
    "import numpy as np\n",
    "import os\n",
    "import shutil\n",
    "\n",
    "import wfdb"
   ]
  },
  {
   "cell_type": "code",
   "execution_count": null,
   "metadata": {},
   "outputs": [],
   "source": [
    "# Demo 9 - Read a wfdb record in which one channel has multiple samples/frame. Return a list of all the expanded samples.\n",
    "record = wfdb.rdrecord('sample-data/test01_00s_frame', smooth_frames=False)\n",
    "\n",
    "display(record.e_p_signal)\n",
    "# Show that different channels have different lengths. Channel 1 has 2 samples/frame, hence has 2x as many samples.\n",
    "print([len(s) for s in record.e_p_signal])\n",
    "\n",
    "# wfdb.plotrec doesn't work because the Record object is missing its p_signals field."
   ]
  },
  {
   "cell_type": "markdown",
   "metadata": {},
   "source": [
    "## Writing Records and Annotations"
   ]
  },
  {
   "cell_type": "code",
   "execution_count": null,
   "metadata": {},
   "outputs": [],
   "source": []
  },
  {
   "cell_type": "code",
   "execution_count": null,
   "metadata": {},
   "outputs": [],
   "source": [
    "# Demo 10 - Read a WFDB record's digital samples and create a copy via the wrsamp() instance method \n",
    "# of the Record object.\n",
    "\n",
    "# Read a record as a Record object.\n",
    "record = wfdb.rdrecord('sample-data/100', physical=False)\n",
    "record.record_name = '100x'\n",
    "\n",
    "# Call the instance method of the object\n",
    "record.wrsamp()\n",
    "\n",
    "# The new file can be read\n",
    "record_x = wfdb.rdrecord('100x')\n",
    "\n",
    "# Cleanup: delete the created files\n",
    "# os.remove('100x.hea')\n",
    "# os.remove('100.dat')"
   ]
  },
  {
   "cell_type": "code",
   "execution_count": null,
   "metadata": {},
   "outputs": [],
   "source": [
    "# Demo 11 - Write a WFDB record without using a Record object via the gateway wrsamp function.\n",
    "# This is the basic way to write physical signals to a WFDB file. \n",
    "\n",
    "# Read part of a record from Physiobank\n",
    "sig, fields = wfdb.rdsamp('a103l', sampfrom=50000, channels=[0,1], pb_dir='challenge/2015/training')\n",
    "\n",
    "# Call the gateway wrsamp function, manually inserting fields as function input parameters\n",
    "wfdb.wrsamp('ecg-record', fs=250, units=['mV', 'mV'], sig_name=['I', 'II'], p_signal=sig, fmt=['16', '16'])\n",
    "\n",
    "# The new file can be read\n",
    "record = wfdb.rdrecord('ecg-record')\n",
    "\n",
    "# Cleanup: delete the created files\n",
    "# os.remove('ecg-record.hea')\n",
    "# os.remove('ecg-record.dat')"
   ]
  },
  {
   "cell_type": "code",
   "execution_count": null,
   "metadata": {},
   "outputs": [],
   "source": [
    "wfdb.plot_wfdb(record)"
   ]
  },
  {
   "cell_type": "code",
   "execution_count": null,
   "metadata": {},
   "outputs": [],
   "source": [
    "from IPython.display import display\n",
    "import matplotlib.pyplot as plt\n",
    "%matplotlib inline\n",
    "import numpy as np\n",
    "import os\n",
    "import shutil\n",
    "\n",
    "\n",
    "import wfdb"
   ]
  },
  {
   "cell_type": "code",
   "execution_count": null,
   "metadata": {},
   "outputs": [],
   "source": [
    "# Demo 12 - Write a WFDB record with multiple samples/frame in a channel\n",
    "\n",
    "# Read a record as a Record object.\n",
    "record = wfdb.rdrecord('sample-data/test01_00s_frame', physical=False, smooth_frames=False)\n",
    "record.record_name = 'test01_00s_framex'\n",
    "\n",
    "# Call the instance method of the object with expanded=True to write the record using the e_d_signal field\n",
    "record.wrsamp(expanded=True)\n",
    "\n",
    "# The new file can be read\n",
    "recordx = wfdb.rdrecord('test01_00s_framex')\n",
    "\n",
    "# Cleanup: deleted the created files\n",
    "# os.remove('test01_00s_framex.hea')\n",
    "# os.remove('test01_00s.dat')"
   ]
  },
  {
   "cell_type": "code",
   "execution_count": null,
   "metadata": {},
   "outputs": [],
   "source": [
    "# Demo 13 - Read a WFDB annotation file and create a copy via the wrann() instance method\n",
    "# of the Annotation object\n",
    "\n",
    "# Read an annotation from Physiobank\n",
    "annotation = wfdb.rdann('sample-data/100', 'atr')\n",
    "annotation.extension = 'cpy'\n",
    "\n",
    "# Call the instance method of the object\n",
    "annotation.wrann()\n",
    "\n",
    "# The new file can be read\n",
    "annotation_copy = wfdb.rdann('100', 'cpy')\n",
    "\n",
    "# Cleanup: deleted the created files\n",
    "# os.remove('100.cpy')"
   ]
  },
  {
   "cell_type": "code",
   "execution_count": null,
   "metadata": {},
   "outputs": [],
   "source": [
    "# Demo 14 - Write a WFDB annotation file without using an Annotator\n",
    "# object via the gateway wrann function.\n",
    "\n",
    "# Read an annotation as an Annotation object\n",
    "annotation = wfdb.rdann('b001', 'atr', pb_dir='cebsdb')\n",
    "\n",
    "# Call the gateway wrann function, manually inserting fields as function input parameters\n",
    "wfdb.wrann('b001', 'cpy', annotation.sample, annotation.symbol)\n",
    "\n",
    "# The new file can be read\n",
    "annotation_copy = wfdb.rdann('b001', 'cpy')\n",
    "\n",
    "# Cleanup: deleted the created files\n",
    "# os.remove('b001.cpy')"
   ]
  },
  {
   "cell_type": "code",
   "execution_count": null,
   "metadata": {},
   "outputs": [],
   "source": [
    "# Demo 15 - View the standard WFDB annotation labels\n",
    "wfdb.show_ann_labels()"
   ]
  },
  {
   "cell_type": "markdown",
   "metadata": {},
   "source": [
    "## Downloading Content from Physiobank\n",
    "\n",
    "- The downloads are made via http\n",
    "- See the above demos for examples on streaming WFDB files stored in Physiobank without downloading them to local disk\n",
    "- Physionet has rsync modules for downloading entire databases for users who have access to rsync.  "
   ]
  },
  {
   "cell_type": "code",
   "execution_count": null,
   "metadata": {},
   "outputs": [],
   "source": [
    "# Demo 16 - List the Physiobank Databases\n",
    "\n",
    "dbs = wfdb.get_dbs()\n",
    "display(dbs)"
   ]
  },
  {
   "cell_type": "code",
   "execution_count": null,
   "metadata": {},
   "outputs": [],
   "source": [
    "# Demo 17 - Download all the WFDB records and annotations from a small Physiobank Database\n",
    "\n",
    "# Make a temporary download directory in your current working directory\n",
    "cwd = os.getcwd()\n",
    "dl_dir = os.path.join(cwd, 'tmp_dl_dir')\n",
    "\n",
    "# Download all the WFDB content\n",
    "wfdb.dl_database('ahadb', dl_dir=dl_dir)\n",
    "\n",
    "# Display the downloaded content in the folder\n",
    "display(os.listdir(dl_dir))\n",
    "\n",
    "# Cleanup: delete the downloaded directory\n",
    "# shutil.rmtree(dl_dir)"
   ]
  },
  {
   "cell_type": "code",
   "execution_count": null,
   "metadata": {},
   "outputs": [],
   "source": [
    "# Demo 18 - Download specified files from a Physiobank database\n",
    "\n",
    "# The files to download\n",
    "file_list = ['STAFF-Studies-bibliography-2016.pdf', 'data/001a.hea', 'data/001a.dat', 'data/001b.hea', 'data/001b.dat']\n",
    "\n",
    "# Make a temporary download directory in your current working directory\n",
    "cwd = os.getcwd()\n",
    "dl_dir = os.path.join(cwd, 'tmp_dl_dir')\n",
    "\n",
    "# Download the listed files\n",
    "wfdb.dl_files('staffiii', dl_dir, file_list)\n",
    "\n",
    "# Display the downloaded content in the folder\n",
    "display(os.listdir(dl_dir))\n",
    "display(os.listdir(os.path.join(dl_dir, 'data')))\n",
    "\n",
    "# Cleanup: delete the downloaded directory\n",
    "# shutil.rmtree(dl_dir)"
   ]
  },
  {
   "cell_type": "markdown",
   "metadata": {
    "collapsed": true
   },
   "source": [
    "## ECG Processing"
   ]
  },
  {
   "cell_type": "code",
   "execution_count": null,
   "metadata": {},
   "outputs": [],
   "source": [
    "import wfdb\n",
    "from wfdb import processing"
   ]
  },
  {
   "cell_type": "code",
   "execution_count": null,
   "metadata": {},
   "outputs": [],
   "source": [
    "# Demo 19 - Use the gqrs detection algorithm and correct the peaks\n",
    "\n",
    "def peaks_hr(sig, peak_inds, fs, title, figsize=(20, 10), saveto=None):\n",
    "    \"Plot a signal with its peaks and heart rate\"\n",
    "    # Calculate heart rate\n",
    "    hrs = processing.compute_hr(sig_len=sig.shape[0], qrs_inds=peak_inds, fs=fs)\n",
    "    \n",
    "    N = sig.shape[0]\n",
    "    \n",
    "    fig, ax_left = plt.subplots(figsize=figsize)\n",
    "    ax_right = ax_left.twinx()\n",
    "    \n",
    "    ax_left.plot(sig, color='#3979f0', label='Signal')\n",
    "    ax_left.plot(peak_inds, sig[peak_inds], 'rx', marker='x', color='#8b0000', label='Peak', markersize=12)\n",
    "    ax_right.plot(np.arange(N), hrs, label='Heart rate', color='m', linewidth=2)\n",
    "\n",
    "    ax_left.set_title(title)\n",
    "\n",
    "    ax_left.set_xlabel('Time (ms)')\n",
    "    ax_left.set_ylabel('ECG (mV)', color='#3979f0')\n",
    "    ax_right.set_ylabel('Heart rate (bpm)', color='m')\n",
    "    # Make the y-axis label, ticks and tick labels match the line color.\n",
    "    ax_left.tick_params('y', colors='#3979f0')\n",
    "    ax_right.tick_params('y', colors='m')\n",
    "    if saveto is not None:\n",
    "        plt.savefig(saveto, dpi=600)\n",
    "    plt.show()\n",
    "\n",
    "# Load the wfdb record and the physical samples\n",
    "record = wfdb.rdrecord('sample-data/100', sampfrom=0, sampto=10000, channels=[0])\n",
    "\n",
    "# Use the gqrs algorithm to detect qrs locations in the first channel\n",
    "qrs_inds = processing.gqrs_detect(sig=record.p_signal[:,0], fs=record.fs)\n",
    "\n",
    "# Plot results\n",
    "peaks_hr(sig=record.p_signal, peak_inds=qrs_inds, fs=record.fs,\n",
    "        title=\"GQRS peak detection on record 100\")\n",
    "    \n",
    "# Correct the peaks shifting them to local maxima\n",
    "min_bpm = 20\n",
    "max_bpm = 230\n",
    "#min_gap = record.fs * 60 / min_bpm\n",
    "# Use the maximum possible bpm as the search radius\n",
    "search_radius = int(record.fs * 60 / max_bpm)\n",
    "corrected_peak_inds = processing.correct_peaks(record.p_signal[:,0], peak_inds=qrs_inds,\n",
    "                                               search_radius=search_radius, smooth_window_size=150)\n",
    "\n",
    "# Display results\n",
    "print('Corrected gqrs detected peak indices:', sorted(corrected_peak_inds))\n",
    "peaks_hr(sig=record.p_signal, peak_inds=sorted(corrected_peak_inds), fs=record.fs,\n",
    "         title=\"Corrected GQRS peak detection on sampledata/100\")\n",
    "    "
   ]
  },
  {
   "cell_type": "code",
   "execution_count": null,
   "metadata": {},
   "outputs": [],
   "source": [
    "# Demo 20 - Use the xqrs detection algorithm and compare results to reference annotations\n",
    "import wfdb\n",
    "from wfdb import processing\n",
    "sig, fields = wfdb.rdsamp('sample-data/100', channels=[0], sampto=15000)\n",
    "ann_ref = wfdb.rdann('sample-data/100','atr', sampto=15000)\n",
    "\n",
    "# Run qrs detection on signal\n",
    "xqrs = processing.XQRS(sig=sig[:,0], fs=fields['fs'])\n",
    "xqrs.detect()\n",
    "# Alternatively, use the gateway function to get the qrs indices directly\n",
    "# qrs_inds = processing.xqrs_detect(sig=sig[:,0], fs=fields['fs'])\n",
    "\n",
    "# Compare detected qrs complexes to reference annotation.\n",
    "# Note, first sample in 100.atr is not a qrs.\n",
    "comparitor = processing.compare_annotations(ref_sample=ann_ref.sample[1:],\n",
    "                                            test_sample=xqrs.qrs_inds,\n",
    "                                            window_width=int(0.1 * fields['fs']),\n",
    "                                            signal=sig[:,0])\n",
    "\n",
    "# Print and plot the results\n",
    "comparitor.print_summary()\n",
    "comparitor.plot(title='xqrs detected qrs vs reference annotations')"
   ]
  },
  {
   "cell_type": "code",
   "execution_count": null,
   "metadata": {},
   "outputs": [],
   "source": []
  },
  {
   "cell_type": "code",
   "execution_count": null,
   "metadata": {},
   "outputs": [],
   "source": [
    "# Cleanup for all demos\n",
    "for file in ['100x.hea', '100.dat',  # demo 10\n",
    "             'ecg-record.hea', 'ecg-record.dat',  # demo 11 \n",
    "             'test01_00s_framex.hea', 'test01_00s.dat',  # demo 12\n",
    "             '100.cpy',  # demo 13\n",
    "             'b001.cpy',  # demo 14\n",
    "            ]:\n",
    "    if os.path.isfile(file):\n",
    "        os.remove(file)\n",
    "\n",
    "dl_dir = os.path.join(cwd, 'tmp_dl_dir')  # demo 17, 18\n",
    "if os.path.isdir(dl_dir):\n",
    "    shutil.rmtree(dl_dir)"
   ]
  },
  {
   "cell_type": "code",
   "execution_count": null,
   "metadata": {},
   "outputs": [],
   "source": [
    "import wfdb\n",
    "record_no_skew = wfdb.rdrecord('sample-data/test01_00s_skewframe',\n",
    "                                     physical=False,\n",
    "                                     smooth_frames=False, ignore_skew=True)\n",
    "record_no_skew.wrsamp(expanded=True)"
   ]
  },
  {
   "cell_type": "code",
   "execution_count": null,
   "metadata": {},
   "outputs": [],
   "source": [
    "import numpy as np\n",
    "int_types = (int, np.int64, np.int32, np.int16, np.int8)\n",
    "\n",
    "int_types[0]('10')"
   ]
  },
  {
   "cell_type": "code",
   "execution_count": null,
   "metadata": {},
   "outputs": [],
   "source": []
  },
  {
   "cell_type": "code",
   "execution_count": null,
   "metadata": {},
   "outputs": [],
   "source": []
  },
  {
   "cell_type": "code",
   "execution_count": null,
   "metadata": {},
   "outputs": [],
   "source": []
  },
  {
   "cell_type": "code",
   "execution_count": null,
   "metadata": {},
   "outputs": [],
   "source": []
  },
  {
   "cell_type": "code",
   "execution_count": null,
   "metadata": {},
   "outputs": [],
   "source": []
  },
  {
   "cell_type": "code",
   "execution_count": null,
   "metadata": {},
   "outputs": [],
   "source": []
  },
  {
   "cell_type": "code",
   "execution_count": null,
   "metadata": {},
   "outputs": [],
   "source": []
  },
  {
   "cell_type": "code",
   "execution_count": null,
   "metadata": {},
   "outputs": [],
   "source": []
  },
  {
   "cell_type": "code",
   "execution_count": null,
   "metadata": {},
   "outputs": [],
   "source": []
  },
  {
   "cell_type": "code",
   "execution_count": null,
   "metadata": {},
   "outputs": [],
   "source": []
  },
  {
   "cell_type": "code",
   "execution_count": null,
   "metadata": {},
   "outputs": [],
   "source": []
  }
 ],
 "metadata": {
  "kernelspec": {
   "display_name": "Python 3",
   "language": "python",
   "name": "python3"
  },
  "language_info": {
   "codemirror_mode": {
    "name": "ipython",
    "version": 3
   },
   "file_extension": ".py",
   "mimetype": "text/x-python",
   "name": "python",
   "nbconvert_exporter": "python",
   "pygments_lexer": "ipython3",
   "version": "3.6.5"
  }
 },
 "nbformat": 4,
 "nbformat_minor": 1
}
